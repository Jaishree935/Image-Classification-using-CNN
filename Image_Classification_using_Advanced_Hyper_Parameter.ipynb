{
  "cells": [
    {
      "cell_type": "markdown",
      "metadata": {
        "id": "view-in-github",
        "colab_type": "text"
      },
      "source": [
        "<a href=\"https://colab.research.google.com/github/Jaishree935/Image-Classification-using-CNN/blob/main/Image_Classification_using_Advanced_Hyper_Parameter.ipynb\" target=\"_parent\"><img src=\"https://colab.research.google.com/assets/colab-badge.svg\" alt=\"Open In Colab\"/></a>"
      ]
    },
    {
      "cell_type": "markdown",
      "metadata": {
        "id": "CJrguEvbIL6k"
      },
      "source": [
        "**Image Classification using CNN with the CIFAR-10 Dataset using Advanced HyperParameter Tunning**"
      ]
    },
    {
      "cell_type": "markdown",
      "metadata": {
        "id": "D39sDVyKINHy"
      },
      "source": [
        "# Steps to be followed\n",
        "1. Importing necessary libraries\n",
        "2. Loading and pre-processing of the CIFAR-10 dataset.\n",
        "3. Defining the class names for CIFAR-10 images.\n",
        "4. Define a function to build the model\n",
        "5. Define the Tuner\n",
        "6. Perform the Hyperparameter search\n",
        "7. Get the best Hyperparameters\n",
        "8. Build the model with the best Hyperparameters and train it\n",
        "9. Plotting the training and validation accuracy and loss values"
      ]
    },
    {
      "cell_type": "markdown",
      "metadata": {
        "id": "Wb-yR1oXIrzm"
      },
      "source": [
        "# Installation"
      ]
    },
    {
      "cell_type": "code",
      "execution_count": null,
      "metadata": {
        "colab": {
          "base_uri": "https://localhost:8080/"
        },
        "id": "giOW6y2OItxr",
        "outputId": "cc7a2c59-b868-478e-95c7-e052ad002858"
      },
      "outputs": [
        {
          "name": "stdout",
          "output_type": "stream",
          "text": [
            "Collecting keras_tuner\n",
            "  Downloading keras_tuner-1.4.7-py3-none-any.whl.metadata (5.4 kB)\n",
            "Requirement already satisfied: keras in /usr/local/lib/python3.10/dist-packages (from keras_tuner) (3.4.1)\n",
            "Requirement already satisfied: packaging in /usr/local/lib/python3.10/dist-packages (from keras_tuner) (24.2)\n",
            "Requirement already satisfied: requests in /usr/local/lib/python3.10/dist-packages (from keras_tuner) (2.32.3)\n",
            "Collecting kt-legacy (from keras_tuner)\n",
            "  Downloading kt_legacy-1.0.5-py3-none-any.whl.metadata (221 bytes)\n",
            "Requirement already satisfied: absl-py in /usr/local/lib/python3.10/dist-packages (from keras->keras_tuner) (1.4.0)\n",
            "Requirement already satisfied: numpy in /usr/local/lib/python3.10/dist-packages (from keras->keras_tuner) (1.26.4)\n",
            "Requirement already satisfied: rich in /usr/local/lib/python3.10/dist-packages (from keras->keras_tuner) (13.9.4)\n",
            "Requirement already satisfied: namex in /usr/local/lib/python3.10/dist-packages (from keras->keras_tuner) (0.0.8)\n",
            "Requirement already satisfied: h5py in /usr/local/lib/python3.10/dist-packages (from keras->keras_tuner) (3.12.1)\n",
            "Requirement already satisfied: optree in /usr/local/lib/python3.10/dist-packages (from keras->keras_tuner) (0.13.0)\n",
            "Requirement already satisfied: ml-dtypes in /usr/local/lib/python3.10/dist-packages (from keras->keras_tuner) (0.4.1)\n",
            "Requirement already satisfied: charset-normalizer<4,>=2 in /usr/local/lib/python3.10/dist-packages (from requests->keras_tuner) (3.4.0)\n",
            "Requirement already satisfied: idna<4,>=2.5 in /usr/local/lib/python3.10/dist-packages (from requests->keras_tuner) (3.10)\n",
            "Requirement already satisfied: urllib3<3,>=1.21.1 in /usr/local/lib/python3.10/dist-packages (from requests->keras_tuner) (2.2.3)\n",
            "Requirement already satisfied: certifi>=2017.4.17 in /usr/local/lib/python3.10/dist-packages (from requests->keras_tuner) (2024.8.30)\n",
            "Requirement already satisfied: typing-extensions>=4.5.0 in /usr/local/lib/python3.10/dist-packages (from optree->keras->keras_tuner) (4.12.2)\n",
            "Requirement already satisfied: markdown-it-py>=2.2.0 in /usr/local/lib/python3.10/dist-packages (from rich->keras->keras_tuner) (3.0.0)\n",
            "Requirement already satisfied: pygments<3.0.0,>=2.13.0 in /usr/local/lib/python3.10/dist-packages (from rich->keras->keras_tuner) (2.18.0)\n",
            "Requirement already satisfied: mdurl~=0.1 in /usr/local/lib/python3.10/dist-packages (from markdown-it-py>=2.2.0->rich->keras->keras_tuner) (0.1.2)\n",
            "Downloading keras_tuner-1.4.7-py3-none-any.whl (129 kB)\n",
            "\u001b[2K   \u001b[90m━━━━━━━━━━━━━━━━━━━━━━━━━━━━━━━━━━━━━━━━\u001b[0m \u001b[32m129.1/129.1 kB\u001b[0m \u001b[31m2.6 MB/s\u001b[0m eta \u001b[36m0:00:00\u001b[0m\n",
            "\u001b[?25hDownloading kt_legacy-1.0.5-py3-none-any.whl (9.6 kB)\n",
            "Installing collected packages: kt-legacy, keras_tuner\n",
            "Successfully installed keras_tuner-1.4.7 kt-legacy-1.0.5\n"
          ]
        }
      ],
      "source": [
        "pip install keras_tuner"
      ]
    },
    {
      "cell_type": "markdown",
      "metadata": {
        "id": "Zs7mgKKFI6_1"
      },
      "source": [
        "# Step 1: Importing necessary libraries"
      ]
    },
    {
      "cell_type": "code",
      "execution_count": null,
      "metadata": {
        "id": "ALVijdx2JBiW"
      },
      "outputs": [],
      "source": [
        "import tensorflow as tf\n",
        "from tensorflow.keras import datasets, layers, models\n",
        "from keras_tuner.tuners import RandomSearch\n",
        "import matplotlib.pyplot as plt\n",
        "from tensorflow import keras\n",
        "from tensorflow.keras import layers, models\n",
        "import keras_tuner as kt"
      ]
    },
    {
      "cell_type": "markdown",
      "metadata": {
        "id": "mYijjPwOJQ0m"
      },
      "source": [
        "# Step 2: Loading and pre-processing of the CIFAR-10 dataset."
      ]
    },
    {
      "cell_type": "code",
      "execution_count": null,
      "metadata": {
        "colab": {
          "base_uri": "https://localhost:8080/"
        },
        "id": "_esGn6WQJVjd",
        "outputId": "5caf3036-ed37-464d-bb29-a63be931e040"
      },
      "outputs": [
        {
          "name": "stdout",
          "output_type": "stream",
          "text": [
            "Downloading data from https://www.cs.toronto.edu/~kriz/cifar-10-python.tar.gz\n",
            "\u001b[1m170498071/170498071\u001b[0m \u001b[32m━━━━━━━━━━━━━━━━━━━━\u001b[0m\u001b[37m\u001b[0m \u001b[1m3s\u001b[0m 0us/step\n"
          ]
        }
      ],
      "source": [
        "(train_images, train_labels),(test_images, test_labels) = datasets.cifar10.load_data()\n",
        "train_images = train_images / 255.0\n",
        "test_images = test_images / 255.0"
      ]
    },
    {
      "cell_type": "markdown",
      "metadata": {
        "id": "Z7TdwNEzJWAj"
      },
      "source": [
        "# Step 3:  Defining the class names for CIFAR-10 images."
      ]
    },
    {
      "cell_type": "code",
      "execution_count": null,
      "metadata": {
        "id": "XSdqCd7eJaEn"
      },
      "outputs": [],
      "source": [
        "class_name = ['airplane' , 'automobile' , 'bird' , 'cat' ,'deer' ,'dog' ,'frog' ,'horse','ship','truck']"
      ]
    },
    {
      "cell_type": "markdown",
      "metadata": {
        "id": "JO5wVvAhJadv"
      },
      "source": [
        "# Step 4: Define a function to build the model\n"
      ]
    },
    {
      "cell_type": "code",
      "execution_count": null,
      "metadata": {
        "id": "yIPCdqXSJeY9"
      },
      "outputs": [],
      "source": [
        "def build_model(hp):\n",
        "  model=models.Sequential()\n",
        "\n",
        "  #Tune the number of Convolutional Layers(1,2 or 3)\n",
        "  for i in range(hp.Int('conv_layers',1,3)):\n",
        "    if i==0:\n",
        "      model.add(layers.Conv2D(\n",
        "          filters=hp.Int('filters_'+str(i) , min_value=32, max_value=128, step=16),\n",
        "          kernel_size=(3,3),\n",
        "          activation ='relu',\n",
        "          input_shape=(32,32,3)\n",
        "      ))\n",
        "    else:\n",
        "      model.add(layers.Conv2D(\n",
        "          filters=hp.Int('filters_'+str(i) , min_value=32, max_value=128, step=16),\n",
        "          kernel_size=(3,3),\n",
        "          activation ='relu',\n",
        "          padding='same'\n",
        "      ))\n",
        "      model.add(layers.MaxPooling2D(pool_size=(2,2)))\n",
        "  model.add(layers.Flatten())\n",
        "\n",
        "#Tune the number of Dense Layers(1,2, or 3)\n",
        "  for i in range(hp.Int('dense_layers',1,3)):\n",
        "    model.add(layers.Dense(\n",
        "        units=hp.Int('units_'+str(i), min_value=32, max_value=128, step=16),\n",
        "        activation='relu'\n",
        "    ))\n",
        "\n",
        "    #Tune the dropout rate\n",
        "    model.add(layers.Dropout(rate=hp.Float('dropout_' +str(i),min_value=0.0,max_value=0.5,step=0.1)))\n",
        "\n",
        "  #The last dense layer with 10 output units(for 10 classes of CIFAR-10 dataset)\n",
        "  model.add(layers.Dense(10,activation='softmax'))\n",
        "  optimizer = tf.keras.optimizers.Adam(learning_rate=hp.Choice('learning_rate', values=[1e-2, 1e-3, 1e-4]))\n",
        "\n",
        "  model.compile(optimizer=optimizer,\n",
        "                  loss=keras.losses.SparseCategoricalCrossentropy(from_logits=True),\n",
        "                  metrics=['accuracy'])\n",
        "\n",
        "  return model"
      ]
    },
    {
      "cell_type": "markdown",
      "metadata": {
        "id": "8l3l0OffL0LV"
      },
      "source": [
        "# Step 5: Define the Tuner"
      ]
    },
    {
      "cell_type": "code",
      "execution_count": null,
      "metadata": {
        "colab": {
          "base_uri": "https://localhost:8080/"
        },
        "id": "0E1g2hHwL4Dq",
        "outputId": "51184f0e-ac3b-4171-8d4d-152256f83ba3"
      },
      "outputs": [
        {
          "name": "stderr",
          "output_type": "stream",
          "text": [
            "/usr/local/lib/python3.10/dist-packages/keras/src/layers/convolutional/base_conv.py:107: UserWarning: Do not pass an `input_shape`/`input_dim` argument to a layer. When using Sequential models, prefer using an `Input(shape)` object as the first layer in the model instead.\n",
            "  super().__init__(activity_regularizer=activity_regularizer, **kwargs)\n"
          ]
        }
      ],
      "source": [
        "tuner = RandomSearch(\n",
        "    build_model,\n",
        "    objective='val_accuracy',\n",
        "    max_trials=10,\n",
        "    executions_per_trial=1,\n",
        "    directory='my_dir',\n",
        "    project_name='cifar10_tunning'\n",
        ")"
      ]
    },
    {
      "cell_type": "markdown",
      "metadata": {
        "id": "pxOuj9_WMHZs"
      },
      "source": [
        "# Step 6: Perform the Hyperparameter search"
      ]
    },
    {
      "cell_type": "code",
      "execution_count": null,
      "metadata": {
        "id": "xMyfTpwqMMTT"
      },
      "outputs": [],
      "source": [
        "tuner.search(train_images, train_labels, epochs=5, validation_data=(test_images, test_labels))"
      ]
    },
    {
      "cell_type": "markdown",
      "metadata": {
        "id": "WwzkB9p8MTsU"
      },
      "source": [
        "# Step 7: Get the best Hyperparameters"
      ]
    },
    {
      "cell_type": "code",
      "execution_count": null,
      "metadata": {
        "id": "tHfvlz4XMaFm"
      },
      "outputs": [],
      "source": [
        "best_hps= tuner.get_best_hyperparameters(num_trials=1)[0]"
      ]
    },
    {
      "cell_type": "markdown",
      "metadata": {
        "id": "qhUkfhR_McQu"
      },
      "source": [
        "# Step 8 : Build the model with the best Hyperparameters and train it"
      ]
    },
    {
      "cell_type": "code",
      "execution_count": null,
      "metadata": {
        "colab": {
          "background_save": true,
          "base_uri": "https://localhost:8080/"
        },
        "id": "ZS92PiltC8g3",
        "outputId": "7e9785ce-8886-4907-f121-b4e4654183e5"
      },
      "outputs": [
        {
          "name": "stdout",
          "output_type": "stream",
          "text": [
            "Epoch 1/10\n",
            "\u001b[1m1563/1563\u001b[0m \u001b[32m━━━━━━━━━━━━━━━━━━━━\u001b[0m\u001b[37m\u001b[0m \u001b[1m190s\u001b[0m 120ms/step - accuracy: 0.0992 - loss: 2.3138 - val_accuracy: 0.1000 - val_loss: 2.3037\n",
            "Epoch 2/10\n",
            "\u001b[1m1563/1563\u001b[0m \u001b[32m━━━━━━━━━━━━━━━━━━━━\u001b[0m\u001b[37m\u001b[0m \u001b[1m199s\u001b[0m 118ms/step - accuracy: 0.1028 - loss: 2.3038 - val_accuracy: 0.1000 - val_loss: 2.3035\n",
            "Epoch 3/10\n",
            "\u001b[1m1563/1563\u001b[0m \u001b[32m━━━━━━━━━━━━━━━━━━━━\u001b[0m\u001b[37m\u001b[0m \u001b[1m180s\u001b[0m 115ms/step - accuracy: 0.1006 - loss: 2.3041 - val_accuracy: 0.1000 - val_loss: 2.3040\n",
            "Epoch 4/10\n",
            "\u001b[1m1563/1563\u001b[0m \u001b[32m━━━━━━━━━━━━━━━━━━━━\u001b[0m\u001b[37m\u001b[0m \u001b[1m180s\u001b[0m 115ms/step - accuracy: 0.1016 - loss: 2.3040 - val_accuracy: 0.1000 - val_loss: 2.3040\n",
            "Epoch 5/10\n",
            "\u001b[1m1563/1563\u001b[0m \u001b[32m━━━━━━━━━━━━━━━━━━━━\u001b[0m\u001b[37m\u001b[0m \u001b[1m202s\u001b[0m 115ms/step - accuracy: 0.1015 - loss: 2.3040 - val_accuracy: 0.1000 - val_loss: 2.3034\n",
            "Epoch 6/10\n",
            "\u001b[1m1563/1563\u001b[0m \u001b[32m━━━━━━━━━━━━━━━━━━━━\u001b[0m\u001b[37m\u001b[0m \u001b[1m203s\u001b[0m 116ms/step - accuracy: 0.0982 - loss: 2.3040 - val_accuracy: 0.1000 - val_loss: 2.3039\n",
            "Epoch 7/10\n",
            "\u001b[1m1563/1563\u001b[0m \u001b[32m━━━━━━━━━━━━━━━━━━━━\u001b[0m\u001b[37m\u001b[0m \u001b[1m200s\u001b[0m 115ms/step - accuracy: 0.0995 - loss: 2.3038 - val_accuracy: 0.1000 - val_loss: 2.3050\n",
            "Epoch 8/10\n",
            "\u001b[1m1563/1563\u001b[0m \u001b[32m━━━━━━━━━━━━━━━━━━━━\u001b[0m\u001b[37m\u001b[0m \u001b[1m179s\u001b[0m 115ms/step - accuracy: 0.0991 - loss: 2.3041 - val_accuracy: 0.1000 - val_loss: 2.3043\n",
            "Epoch 9/10\n",
            "\u001b[1m1563/1563\u001b[0m \u001b[32m━━━━━━━━━━━━━━━━━━━━\u001b[0m\u001b[37m\u001b[0m \u001b[1m203s\u001b[0m 115ms/step - accuracy: 0.1007 - loss: 2.3041 - val_accuracy: 0.1000 - val_loss: 2.3034\n",
            "Epoch 10/10\n",
            "\u001b[1m 372/1563\u001b[0m \u001b[32m━━━━\u001b[0m\u001b[37m━━━━━━━━━━━━━━━━\u001b[0m \u001b[1m2:07\u001b[0m 107ms/step - accuracy: 0.0959 - loss: 2.3041"
          ]
        }
      ],
      "source": [
        "model=tuner.hypermodel.build(best_hps)\n",
        "history = model.fit(train_images, train_labels, epochs=10,validation_data=(test_images,test_labels))"
      ]
    },
    {
      "cell_type": "markdown",
      "metadata": {
        "id": "jE6z3aJUMzpn"
      },
      "source": [
        "# Step 9: Plotting the training and validation accuracy and loss values"
      ]
    },
    {
      "cell_type": "code",
      "execution_count": null,
      "metadata": {
        "id": "HZ3fbKZQM9MV"
      },
      "outputs": [],
      "source": [
        "plt.figure(figsize=(12,4))\n",
        "plt.subplot(1,2,1)\n",
        "plt.plot(history.history['accuracy'],label='Training Accuracy')\n",
        "plt.plot(history.history['val_accuracy'],label='Validation Accuracy')\n",
        "plt.xlabel('Epochs')\n",
        "plt.ylabel('Accuracy')\n",
        "plt.ylim([0,1])\n",
        "plt.legend(loc='lower right')\n",
        "plt.title('Training and Validation Accuracy')\n",
        "plt.grid()\n",
        "\n",
        "\n",
        "plt.subplot(1,2,2)\n",
        "plt.plot(history.history['loss'],label='loss')\n",
        "plt.plot(history.history['val_loss'],label='Validation Loss')\n",
        "plt.xlabel('Epochs')\n",
        "plt.ylabel('Loss')\n",
        "plt.ylim([0,1])\n",
        "plt.legend(loc='upper right')\n",
        "plt.title('Training and Validation Loss')\n",
        "plt.grid()\n",
        "\n",
        "plt.show()\n"
      ]
    }
  ],
  "metadata": {
    "colab": {
      "provenance": [],
      "authorship_tag": "ABX9TyN2yxVrQKshFlW3YRyq7QDf",
      "include_colab_link": true
    },
    "kernelspec": {
      "display_name": "Python 3",
      "name": "python3"
    },
    "language_info": {
      "name": "python"
    }
  },
  "nbformat": 4,
  "nbformat_minor": 0
}